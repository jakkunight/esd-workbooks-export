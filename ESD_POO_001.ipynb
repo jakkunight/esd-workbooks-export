{
  "nbformat": 4,
  "nbformat_minor": 0,
  "metadata": {
    "colab": {
      "provenance": [],
      "toc_visible": true,
      "include_colab_link": true
    },
    "kernelspec": {
      "name": "python3",
      "display_name": "Python 3"
    },
    "language_info": {
      "name": "python"
    }
  },
  "cells": [
    {
      "cell_type": "markdown",
      "metadata": {
        "id": "view-in-github",
        "colab_type": "text"
      },
      "source": [
        "<a href=\"https://colab.research.google.com/github/jakkunight/esd-workbooks-export/blob/master/ESD_POO_001.ipynb\" target=\"_parent\"><img src=\"https://colab.research.google.com/assets/colab-badge.svg\" alt=\"Open In Colab\"/></a>"
      ]
    },
    {
      "cell_type": "markdown",
      "source": [
        "# **Programación Orientada a Objetos**\n",
        "**El Objeto Python**\n",
        "\n",
        "El lenguaje de programación Python adopta un modelo de objetos integral donde todo, ya sea un entero básico o una estructura de datos compleja, se trata como un objeto. Dentro de este modelo, cada objeto posee tres atributos esenciales: una identidad distintiva, un tipo específico que determina su comportamiento y un valor que encapsula sus datos. Este concepto fundamental subraya la versatilidad y consistencia de Python, ya que permite a los desarrolladores interactuar con una amplia gama de entidades de forma uniforme y orientada a objetos.\n",
        "\n",
        "x = 42\n",
        "\n",
        "print(type(x))  #<class 'int'>\n",
        "\n",
        "Comprender la identidad, el tipo y el valor de los objetos en Python es fundamental. Cada uno de ellos forma parte de la base del lenguaje de programación:\n",
        "\n",
        "# **Identidad**\n",
        "La identidad de un objeto en Python es un identificador único, a menudo representado como la dirección de memoria del objeto. Esta identidad garantiza que no haya dos objetos iguales, incluso si tienen el mismo valor. Reconocer la identidad de los objetos es crucial para tareas como comparar objetos para determinar su igualdad (usando \"is\"), rastrear referencias a objetos y administrar la memoria eficientemente. Ayuda a prevenir efectos secundarios no deseados al trabajar con objetos mutables, ya que permite identificar si dos variables hacen referencia al mismo objeto o a objetos distintos.\n",
        "\n",
        "# **Tipo**\n",
        "El tipo de un objeto define su comportamiento y las operaciones que se pueden realizar con él. Python tiene tipado dinámico, lo que significa que el tipo de un objeto se determina en tiempo de ejecución. Comprender el tipo de un objeto es vital para tomar decisiones informadas en el código, como la selección de métodos u operaciones adecuados. Permite gestionar objetos de forma diferente según su tipo, lo que facilita el polimorfismo y la adaptabilidad de los programas.\n",
        "\n",
        "#**Valor**\n",
        "El valor de un objeto son los datos que contiene. Representa su contenido y características. Reconocer el valor de los objetos es esencial para la manipulación y el procesamiento de datos. Es necesario acceder y modificar los valores de los objetos para alcanzar los objetivos de programación. Ya sea que trabaje con enteros, cadenas, listas o clases personalizadas, comprender los valores de los objetos le permite extraer información, transformar datos y generar resultados significativos.\n",
        "\n",
        "y = \"Hello\"\n",
        "\n",
        "print(id(y))    # Memory address of the object\n",
        "\n",
        "print(type(y))  # <class 'str'>\n",
        "\n",
        "print(y)        # Hello\n",
        "\n"
      ],
      "metadata": {
        "id": "_QTVDlR4BMez"
      }
    },
    {
      "cell_type": "markdown",
      "source": [
        "## **Definiendo clases**\n",
        "Vista ya la parte teórica, vamos a ver como podemos hacer uso de la programación orientada a objetos en Python. Lo primero es crear una clase, para ello usaremos el ejemplo de perro."
      ],
      "metadata": {
        "id": "zPCVs2u-s20X"
      }
    },
    {
      "cell_type": "code",
      "source": [
        "# Creando una clase vacía\n",
        "class Perro:\n",
        "    pass"
      ],
      "metadata": {
        "id": "OmaAyj5As7l-"
      },
      "execution_count": null,
      "outputs": []
    },
    {
      "cell_type": "markdown",
      "source": [
        "Se trata de una clase vacía y sin mucha utilidad práctica, pero es la mínima clase que podemos crear. Nótese el uso del pass que no hace realmente nada, pero daría un error si después de los : no tenemos contenido.\n",
        "\n",
        "Ahora que tenemos la clase, podemos crear un objeto de la misma. Podemos hacerlo como si de una variable normal se tratase. Nombre de la variable igual a la clase con (). Dentro de los paréntesis irían los parámetros de entrada si los hubiera."
      ],
      "metadata": {
        "id": "WWCYXTwXtCrH"
      }
    },
    {
      "cell_type": "code",
      "source": [
        "# Creamos un objeto de la clase perro\n",
        "mi_perro = Perro()"
      ],
      "metadata": {
        "id": "2ll0YLv-tH2V"
      },
      "execution_count": null,
      "outputs": []
    },
    {
      "cell_type": "markdown",
      "source": [
        "## **Definiendo atributos**\n",
        "A continuación vamos a añadir algunos atributos a nuestra clase. Antes de nada es importante distinguir que existen dos tipos de atributos:\n",
        "\n",
        "**Atributos de instancia:** Pertenecen a la instancia de la clase o al objeto. Son atributos particulares de cada instancia, en nuestro caso de cada perro.\n",
        "\n",
        "**Atributos de clase:** Se trata de atributos que pertenecen a la clase, por lo tanto serán comunes para todos los objetos.\n",
        "\n",
        "Empecemos creando un par de atributos de instancia para nuestro perro, el nombre y la raza. Para ello creamos un método __init__ que será llamado automáticamente cuando creemos un objeto. Se trata del constructor."
      ],
      "metadata": {
        "id": "cN1aXwPTtMz5"
      }
    },
    {
      "cell_type": "code",
      "source": [
        "class Perro:\n",
        "    # El método __init__ es llamado al crear el objeto\n",
        "    def __init__(self, nombre, raza):\n",
        "        print(f\"Creando perro {nombre}, {raza}\")\n",
        "\n",
        "        # Atributos de instancia\n",
        "        self.nombre = nombre\n",
        "        self.raza = raza"
      ],
      "metadata": {
        "id": "MLzDzllrta0g"
      },
      "execution_count": null,
      "outputs": []
    },
    {
      "cell_type": "markdown",
      "source": [
        "Ahora que hemos definido el método init con dos parámetros de entrada, podemos crear el objeto pasando el valor de los atributos. Usando type() podemos ver como efectivamente el objeto es de la clase Perro."
      ],
      "metadata": {
        "id": "zFuADsBxtjF_"
      }
    },
    {
      "cell_type": "code",
      "source": [
        "mi_perro = Perro(\"Toby\",\"Caniche\")\n",
        "print(type(mi_perro))\n",
        "# Creando perro Toby, Bulldog\n",
        "# <class '__main__.Perro'>"
      ],
      "metadata": {
        "colab": {
          "base_uri": "https://localhost:8080/"
        },
        "id": "449cPN7ftrVh",
        "outputId": "abf42b5f-78e0-4f54-e58c-7a06ecdedee2"
      },
      "execution_count": null,
      "outputs": [
        {
          "output_type": "stream",
          "name": "stdout",
          "text": [
            "Creando perro Toby, Caniche\n",
            "<class '__main__.Perro'>\n"
          ]
        }
      ]
    },
    {
      "cell_type": "markdown",
      "source": [
        "Seguramente te hayas fijado en el self que se pasa como parámetro de entrada del método. Es una variable que representa la instancia de la clase, y deberá estar siempre ahí.\n",
        "\n",
        "El uso de __init__ y el doble __ no es una coincidencia. Cuando veas un método con esa forma, significa que está reservado para un uso especial del lenguaje. En este caso sería lo que se conoce como constructor. Hay gente que llama a estos métodos mágicos.\n",
        "\n",
        "Por último, podemos acceder a los atributos usando el objeto."
      ],
      "metadata": {
        "id": "cIKb9CMbtv0j"
      }
    },
    {
      "cell_type": "code",
      "source": [
        "print(mi_perro.nombre) # Toby\n",
        "print(mi_perro.raza)   # Bulldog"
      ],
      "metadata": {
        "colab": {
          "base_uri": "https://localhost:8080/"
        },
        "id": "OvA5HFBHt-Xl",
        "outputId": "2104a811-54a3-4820-f80b-5c629d53b787"
      },
      "execution_count": null,
      "outputs": [
        {
          "output_type": "stream",
          "name": "stdout",
          "text": [
            "Toby\n",
            "Caniche\n"
          ]
        }
      ]
    },
    {
      "cell_type": "markdown",
      "source": [
        "Hasta ahora hemos definido atributos de instancia, ya que son atributos que pertenecen a cada perro concreto. Ahora vamos a definir un atributo de clase, que será común para todos los perros. Por ejemplo, la especie de los perros es algo común para todos los objetos Perro."
      ],
      "metadata": {
        "id": "x4TItGH7uDyM"
      }
    },
    {
      "cell_type": "code",
      "source": [
        "class Perro:\n",
        "    # Atributo de clase\n",
        "    especie = 'mamífero'\n",
        "\n",
        "    # El método __init__ es llamado al crear el objeto\n",
        "    def __init__(self, nombre, raza):\n",
        "        print(f\"Creando perro {nombre}, {raza}\")\n",
        "\n",
        "        # Atributos de instancia\n",
        "        self.nombre = nombre\n",
        "        self.raza = raza"
      ],
      "metadata": {
        "id": "HpTM7BTyue3x"
      },
      "execution_count": null,
      "outputs": []
    },
    {
      "cell_type": "markdown",
      "source": [
        "Dado que es un atributo de clase, no es necesario crear un objeto para acceder al atributos. Podemos hacer lo siguiente."
      ],
      "metadata": {
        "id": "kf06KVoCuohz"
      }
    },
    {
      "cell_type": "code",
      "source": [
        "print(Perro.especie)\n",
        "# mamífero"
      ],
      "metadata": {
        "colab": {
          "base_uri": "https://localhost:8080/"
        },
        "id": "Ga_X99mVuuCv",
        "outputId": "84223d4c-d1aa-43da-dfd0-6efec35b3b0c"
      },
      "execution_count": null,
      "outputs": [
        {
          "output_type": "stream",
          "name": "stdout",
          "text": [
            "mamífero\n"
          ]
        }
      ]
    },
    {
      "cell_type": "markdown",
      "source": [
        "Se puede acceder también al atributo de clase desde el objeto."
      ],
      "metadata": {
        "id": "dd_KpBDWuxfz"
      }
    },
    {
      "cell_type": "code",
      "source": [
        "mi_perro = Perro(\"Toby\", \"Caniche\")\n",
        "mi_perro.especie\n",
        "# 'mamífero'"
      ],
      "metadata": {
        "colab": {
          "base_uri": "https://localhost:8080/",
          "height": 52
        },
        "id": "oZuADxNxyAg9",
        "outputId": "bd8c7221-0606-4eba-a25c-e3a25b5d1a5a"
      },
      "execution_count": null,
      "outputs": [
        {
          "output_type": "stream",
          "name": "stdout",
          "text": [
            "Creando perro Toby, Caniche\n"
          ]
        },
        {
          "output_type": "execute_result",
          "data": {
            "text/plain": [
              "'mamífero'"
            ],
            "application/vnd.google.colaboratory.intrinsic+json": {
              "type": "string"
            }
          },
          "metadata": {},
          "execution_count": 10
        }
      ]
    },
    {
      "cell_type": "markdown",
      "source": [
        "De esta manera, todos los objetos que se creen de la clase perro compartirán ese atributo de clase, ya que pertenecen a la misma."
      ],
      "metadata": {
        "id": "4Qz1Z2K9yGLW"
      }
    },
    {
      "cell_type": "markdown",
      "source": [
        "## **Definiendo métodos**\n",
        "En realidad cuando usamos __init__ anteriormente ya estábamos definiendo un método, solo que uno especial. A continuación vamos a ver como definir métodos que le den alguna funcionalidad interesante a nuestra clase, siguiendo con el ejemplo de perro.\n",
        "\n",
        "Vamos a codificar dos métodos, ladrar y caminar.\n",
        "\n",
        "El primero no recibirá ningún parámetro y el segundo recibirá el número de pasos que queremos andar. Como hemos indicado anteriormente self hace referencia a la instancia de la clase.\n",
        "\n",
        "Se puede definir un método con def y el nombre, y entre () los parámetros de entrada que recibe, donde siempre tendrá que estar self el primero."
      ],
      "metadata": {
        "id": "HaF986e7yL-g"
      }
    },
    {
      "cell_type": "code",
      "source": [
        "class Perro:\n",
        "    # Atributo de clase\n",
        "    especie = 'mamífero'\n",
        "    patas = 4\n",
        "\n",
        "    # El método __init__ es llamado al crear el objeto\n",
        "    def __init__(self, nombre, raza):\n",
        "        print(f\"Creando perro {nombre}, {raza}\")\n",
        "\n",
        "        # Atributos de instancia\n",
        "        self.nombre = nombre\n",
        "        self.raza = raza\n",
        "\n",
        "    def ladra(self):\n",
        "        print(\"Guau guau guau guau miau\")\n",
        "\n",
        "    def camina(self, pasos):\n",
        "        print(f\"Caminando {pasos} pasos\")"
      ],
      "metadata": {
        "id": "opvGzLoOyZ-4"
      },
      "execution_count": null,
      "outputs": []
    },
    {
      "cell_type": "markdown",
      "source": [
        "Por lo tanto si creamos un objeto mi_perro, podremos hacer uso de sus métodos llamándolos con . y el nombre del método. Como si de una función se tratase, pueden recibir y devolver argumentos."
      ],
      "metadata": {
        "id": "ypCJjUR-ygK9"
      }
    },
    {
      "cell_type": "code",
      "source": [
        "mi_perro = Perro(\"Tiger\", \"Caniche\")\n",
        "mi_perro.ladra()\n",
        "mi_perro.camina(16)\n",
        "\n",
        "# Creando perro Toby, Bulldog\n",
        "# Guau\n",
        "# Caminando 10 pasos"
      ],
      "metadata": {
        "colab": {
          "base_uri": "https://localhost:8080/"
        },
        "id": "U6otL3Z4yl5y",
        "outputId": "5ce09e09-7a0c-4714-bb87-d9bba786bba2"
      },
      "execution_count": null,
      "outputs": [
        {
          "output_type": "stream",
          "name": "stdout",
          "text": [
            "Creando perro Tiger, Caniche\n",
            "Guau guau guau guau miau\n",
            "Caminando 16 pasos\n"
          ]
        }
      ]
    },
    {
      "cell_type": "markdown",
      "source": [
        "Cada objeto tiene un identificador unico en la memoria y se lo ve con la funcion id()"
      ],
      "metadata": {
        "id": "-POfhMdSAgjB"
      }
    },
    {
      "cell_type": "code",
      "source": [
        "id(mi_perro)"
      ],
      "metadata": {
        "colab": {
          "base_uri": "https://localhost:8080/"
        },
        "id": "NloNHaEpBEhK",
        "outputId": "725b3f5b-4366-4371-bbad-781597e951c4"
      },
      "execution_count": null,
      "outputs": [
        {
          "output_type": "execute_result",
          "data": {
            "text/plain": [
              "133247096299664"
            ]
          },
          "metadata": {},
          "execution_count": 16
        }
      ]
    },
    {
      "cell_type": "markdown",
      "source": [
        "También puedes comprobar si un objeto es una instancia de una clase con la función isinstance()"
      ],
      "metadata": {
        "id": "Ic7MEWt4BR5A"
      }
    },
    {
      "cell_type": "code",
      "source": [
        "isinstance(mi_perro, Perro)\n",
        "# True"
      ],
      "metadata": {
        "colab": {
          "base_uri": "https://localhost:8080/"
        },
        "id": "Ai8KSOH9Bcaq",
        "outputId": "a6ebde26-7d0e-41a9-f754-f5d8d531abe7"
      },
      "execution_count": null,
      "outputs": [
        {
          "output_type": "execute_result",
          "data": {
            "text/plain": [
              "True"
            ]
          },
          "metadata": {},
          "execution_count": 17
        }
      ]
    },
    {
      "cell_type": "markdown",
      "source": [
        "## **Métodos en Python: instancia, clase y estáticos**\n",
        "Se pueden crear métodos con def dentro de una clase, pudiendo recibir parámetros como entrada y modificar el estado (como los atributos) de la instancia. Pues bien, haciendo uso de los decoradores, es posible crear diferentes tipos de métodos:\n",
        "\n",
        "Lo métodos de instancia “normales” que ya hemos visto como metodo()\n",
        "\n",
        "Métodos de clase usando el decorador @classmethod\n",
        "\n",
        "Y métodos estáticos usando el decorador @staticmethod\n",
        "\n",
        "En la siguiente clase tenemos un ejemplo donde definimos los tres tipos de métodos."
      ],
      "metadata": {
        "id": "7lgYVnKdy4yd"
      }
    },
    {
      "cell_type": "code",
      "source": [
        "class Clase:\n",
        "    def metodo(self):\n",
        "        return 'Método normal', self\n",
        "\n",
        "    @classmethod\n",
        "    def metododeclase(cls):\n",
        "        return 'Método de clase', cls\n",
        "\n",
        "    @staticmethod\n",
        "    def metodoestatico():\n",
        "        return \"Método estático\""
      ],
      "metadata": {
        "id": "kZeG9KatzUsS"
      },
      "execution_count": null,
      "outputs": []
    },
    {
      "cell_type": "markdown",
      "source": [
        "Veamos su comportamiento en detalle uno por uno."
      ],
      "metadata": {
        "id": "waVwmMrIzlRW"
      }
    },
    {
      "cell_type": "markdown",
      "source": [
        "### **Métodos de instancia**\n",
        "Los métodos de instancia son los métodos normales, de toda la vida, que hemos visto anteriormente. Reciben como parámetro de entrada self que hace referencia a la instancia que llama al método. También pueden recibir otros argumentos como entrada.\n",
        "\n",
        "**Para saber más:**\n",
        "El uso de \"self\" es totalmente arbitrario. Se trata de una convención acordada por los usuarios de Python, usada para referirse a la instancia que llama al método, pero podría ser cualquier otro nombre. Lo mismo ocurre con \"cls\", que veremos a continuación."
      ],
      "metadata": {
        "id": "2Mfe1XiYzxV3"
      }
    },
    {
      "cell_type": "code",
      "source": [
        "class Clase:\n",
        "    def metodo(self, arg1, arg2):\n",
        "        return 'Método normal', self\n",
        "\n",
        "#Y como ya sabemos, una vez creado un objeto pueden ser llamados.\n",
        "\n",
        "mi_clase = Clase()\n",
        "mi_clase.metodo(\"a\", \"b\")\n",
        "# ('Método normal', <__main__.Clase at 0x10b9daa90>)"
      ],
      "metadata": {
        "colab": {
          "base_uri": "https://localhost:8080/"
        },
        "id": "kO4j84Vp0A0f",
        "outputId": "8139f0f2-699f-4bde-ca9f-dde53da12bbf"
      },
      "execution_count": null,
      "outputs": [
        {
          "output_type": "execute_result",
          "data": {
            "text/plain": [
              "('Método normal', <__main__.Clase at 0x79300224bfd0>)"
            ]
          },
          "metadata": {},
          "execution_count": 18
        }
      ]
    },
    {
      "cell_type": "markdown",
      "source": [
        "**En vista a esto, los métodos de instancia:**\n",
        "\n",
        "*  Pueden acceder y modificar los atributos del objeto.\n",
        "\n",
        "*  Pueden acceder a otros métodos.\n",
        "\n",
        "*  Dado que desde el objeto self se puede acceder a la clase con ` self.class`, también pueden modificar el estado de la clase"
      ],
      "metadata": {
        "id": "jWmABGVG0F3L"
      }
    },
    {
      "cell_type": "markdown",
      "source": [
        "### **Métodos de clase (classmethod)**\n",
        "A diferencia de los métodos de instancia, los métodos de clase reciben como argumento cls, que hace referencia a la clase. Por lo tanto, pueden acceder a la clase pero no a la instancia."
      ],
      "metadata": {
        "id": "mc1OXWqy0ozj"
      }
    },
    {
      "cell_type": "code",
      "source": [
        "class Clase:\n",
        "    @classmethod\n",
        "    def metododeclase(cls):\n",
        "        return 'Método de clase', cls"
      ],
      "metadata": {
        "id": "f4Zgavxw0sWv"
      },
      "execution_count": null,
      "outputs": []
    },
    {
      "cell_type": "markdown",
      "source": [
        "Se pueden llamar sobre la clase."
      ],
      "metadata": {
        "id": "Rr9NUt5f2KFj"
      }
    },
    {
      "cell_type": "code",
      "source": [
        "Clase.metododeclase()\n",
        "# ('Método de clase', __main__.Clase)"
      ],
      "metadata": {
        "colab": {
          "base_uri": "https://localhost:8080/"
        },
        "id": "5gEinqnU2OjT",
        "outputId": "01d45b53-eb2c-4de9-9e2b-addb8f921096"
      },
      "execution_count": null,
      "outputs": [
        {
          "output_type": "execute_result",
          "data": {
            "text/plain": [
              "('Método de clase', __main__.Clase)"
            ]
          },
          "metadata": {},
          "execution_count": 21
        }
      ]
    },
    {
      "cell_type": "markdown",
      "source": [
        "Pero también se pueden llamar sobre el objeto."
      ],
      "metadata": {
        "id": "r3SodlgA2S3Z"
      }
    },
    {
      "cell_type": "code",
      "source": [
        "mi_clase = Clase()\n",
        "mi_clase.metododeclase()\n",
        "# ('Método de clase', __main__.Clase)"
      ],
      "metadata": {
        "colab": {
          "base_uri": "https://localhost:8080/"
        },
        "id": "yM4Q--1j2SDD",
        "outputId": "b9adb934-43eb-4269-ddfe-4fe2b73d7c4d"
      },
      "execution_count": null,
      "outputs": [
        {
          "output_type": "execute_result",
          "data": {
            "text/plain": [
              "('Método de clase', __main__.Clase)"
            ]
          },
          "metadata": {},
          "execution_count": 22
        }
      ]
    },
    {
      "cell_type": "markdown",
      "source": [
        "**Por lo tanto, los métodos de clase:**\n",
        "\n",
        "No pueden acceder a los atributos de la instancia.\n",
        "Pero si pueden modificar los atributos de la clase."
      ],
      "metadata": {
        "id": "c5C6iPjq2dQL"
      }
    },
    {
      "cell_type": "markdown",
      "source": [
        "### **Métodos estáticos (staticmethod)**\n",
        "Por último, los métodos estáticos se pueden definir con el decorador @staticmethod y no aceptan como parámetro ni la instancia ni la clase. Es por ello por lo que no pueden modificar el estado ni de la clase ni de la instancia. Pero por supuesto pueden aceptar parámetros de entrada.\n",
        "\n",
        "\n"
      ],
      "metadata": {
        "id": "KQoDaNZ_2oaL"
      }
    },
    {
      "cell_type": "code",
      "source": [
        "class Clase:\n",
        "    @staticmethod\n",
        "    def metodoestatico():\n",
        "        return \"Método estático\"\n",
        "\n",
        "mi_clase = Clase()\n",
        "Clase.metodoestatico()\n",
        "mi_clase.metodoestatico()\n",
        "\n",
        "# 'Método estático'\n",
        "# 'Método estático'"
      ],
      "metadata": {
        "colab": {
          "base_uri": "https://localhost:8080/",
          "height": 35
        },
        "id": "RGlmSZz326Ac",
        "outputId": "652d0d8f-5855-4c76-d315-230247e1da28"
      },
      "execution_count": null,
      "outputs": [
        {
          "output_type": "execute_result",
          "data": {
            "text/plain": [
              "'Método estático'"
            ],
            "application/vnd.google.colaboratory.intrinsic+json": {
              "type": "string"
            }
          },
          "metadata": {},
          "execution_count": 23
        }
      ]
    },
    {
      "cell_type": "markdown",
      "source": [
        "Por lo tanto el uso de los métodos estáticos pueden resultar útil para indicar que un método no modificará el estado de la instancia ni de la clase. Es cierto que se podría hacer lo mismo con un método de instancia por ejemplo, pero a veces resulta importante indicar de alguna manera estas peculiaridades, evitando así futuros problemas y malentendidos.\n",
        "\n",
        "En otras palabras, los métodos estáticos se podrían ver como funciones normales, con la salvedad de que van ligadas a una clase concreta."
      ],
      "metadata": {
        "id": "Qdkdkmkj3AwZ"
      }
    },
    {
      "cell_type": "markdown",
      "source": [
        "## **Herencia en Python**\n",
        "\n",
        "La **herencia** es un proceso mediante el cual se puede crear una clase **hija** que hereda de una clase **padre**, compartiendo sus métodos y atributos. Además de ello, una clase hija puede sobreescribir los métodos o atributos, o incluso definir unos nuevos.\n",
        "\n",
        "Se puede crear una clase hija con tan solo pasar como parámetro la clase de la que queremos heredar. En el siguiente ejemplo vemos como se puede usar la herencia en Python, con la clase `Perro` que hereda de `Animal`.\n",
        "\n",
        "Así de fácil.\n",
        "\n"
      ],
      "metadata": {
        "id": "7otqoeZo3wr-"
      }
    },
    {
      "cell_type": "code",
      "source": [
        "# Definimos una clase padre\n",
        "class Animal:\n",
        "    pass\n",
        "\n",
        "# Creamos una clase hija que hereda de la padre\n",
        "class Perro(Animal):\n",
        "    pass"
      ],
      "metadata": {
        "id": "xM6KI1Mj4hJ-"
      },
      "execution_count": null,
      "outputs": []
    },
    {
      "cell_type": "markdown",
      "source": [
        "\n",
        "De hecho podemos ver como efectivamente la clase `Perro` es la hija de `Animal` usando `__bases__`\n"
      ],
      "metadata": {
        "id": "pJM3BsUG5ICp"
      }
    },
    {
      "cell_type": "code",
      "source": [
        "print(Perro.__bases__)\n",
        "# (<class '__main__.Animal'>,)"
      ],
      "metadata": {
        "colab": {
          "base_uri": "https://localhost:8080/"
        },
        "id": "WvH_3GyL5Iym",
        "outputId": "9d880677-e78f-404c-b986-d405a0f5a575"
      },
      "execution_count": null,
      "outputs": [
        {
          "output_type": "stream",
          "name": "stdout",
          "text": [
            "(<class '__main__.Animal'>,)\n"
          ]
        }
      ]
    },
    {
      "cell_type": "markdown",
      "source": [
        "De manera similar podemos ver que clases descienden de una en concreto con __subclasses__."
      ],
      "metadata": {
        "id": "WeYI8xZJ5OhS"
      }
    },
    {
      "cell_type": "code",
      "source": [
        "print(Animal.__subclasses__())\n",
        "# [<class '__main__.Perro'>]"
      ],
      "metadata": {
        "colab": {
          "base_uri": "https://localhost:8080/"
        },
        "id": "dUCA6Eqe5RtV",
        "outputId": "66019623-89ca-4e40-f1bc-87e573be6a34"
      },
      "execution_count": null,
      "outputs": [
        {
          "output_type": "stream",
          "name": "stdout",
          "text": [
            "[<class '__main__.Perro'>]\n"
          ]
        }
      ]
    },
    {
      "cell_type": "markdown",
      "source": [
        "**¿Y para que queremos la herencia?**\n",
        "\n",
        "Dado que una clase hija hereda los atributos y métodos de la padre, nos puede ser muy útil cuando tengamos clases que se parecen entre sí pero tienen ciertas particularidades. En este caso en vez de definir un montón de clases para cada animal, podemos tomar los elementos comunes y crear una clase Animal de la que hereden el resto, respetando por tanto la filosofía DRY. Realizar estas abstracciones y buscar el denominador común para definir una clase de la que hereden las demás, es una tarea de lo más compleja en el mundo de la programación.\n",
        "\n",
        "**Para saber más:**El principio DRY (Don't Repeat Yourself) es muy aplicado en el mundo de la programación y consiste en no repetir código de manera innecesaria. Cuanto más código duplicado exista, más difícil será de modificar y más fácil será crear inconsistencias. Las clases y la herencia a no repetir código."
      ],
      "metadata": {
        "id": "deI8MPWe5Vgx"
      }
    },
    {
      "cell_type": "markdown",
      "source": [
        "### **Extendiendo y modificando métodos**\n",
        "Continuemos con nuestro ejemplo de perros y animales. Vamos a definir una clase padre Animal que tendrá todos los atributos y métodos genéricos que los animales pueden tener. Esta tarea de buscar el denominador común es muy importante en programación. Veamos los atributos:\n",
        "\n",
        "Tenemos la especie ya que todos los animales pertenecen a una.\n",
        "Y la edad, ya que todo ser vivo nace, crece, se reproduce y muere.\n",
        "Y los métodos o funcionalidades:\n",
        "\n",
        "Tendremos el método hablar, que cada animal implementará de una forma.\n",
        "\n",
        "Los perros ladran, las abejas zumban y los caballos relinchan.\n",
        "\n",
        "Un método moverse. Unos animales lo harán caminando, otros volando.\n",
        "\n",
        "Y por último un método descríbeme que será común.\n",
        "\n",
        "Definimos la clase padre, con una serie de atributos comunes para todos los animales como hemos indicado."
      ],
      "metadata": {
        "id": "8zWMiLao5pL0"
      }
    },
    {
      "cell_type": "code",
      "source": [
        "class Animal:\n",
        "    def __init__(self, especie, edad):\n",
        "        self.especie = especie\n",
        "        self.edad = edad\n",
        "\n",
        "    # Método genérico pero con implementación particular\n",
        "    def hablar(self):\n",
        "        # Método vacío\n",
        "        pass\n",
        "\n",
        "    # Método genérico pero con implementación particular\n",
        "    def moverse(self):\n",
        "        # Método vacío\n",
        "        pass\n",
        "\n",
        "    # Método genérico con la misma implementación\n",
        "    def describeme(self):\n",
        "        print(\"Soy un Animal del tipo\", type(self).__name__)"
      ],
      "metadata": {
        "id": "Uh1ll3I258YI"
      },
      "execution_count": null,
      "outputs": []
    },
    {
      "cell_type": "markdown",
      "source": [
        "Tenemos ya por lo tanto una clase genérica Animal, que generaliza las características y funcionalidades que todo animal puede tener. Ahora creamos una clase Perro que hereda del Animal. Como primer ejemplo vamos a crear una clase vacía, para ver como los métodos y atributos son heredados por defecto."
      ],
      "metadata": {
        "id": "p_VJDtJR6CWn"
      }
    },
    {
      "cell_type": "code",
      "source": [
        "# Perro hereda de Animal\n",
        "class Perro(Animal):\n",
        "    pass\n",
        "\n",
        "mi_perro = Perro('mamífero', 10)\n",
        "mi_perro.describeme()\n",
        "# Soy un Animal del tipo Perro"
      ],
      "metadata": {
        "colab": {
          "base_uri": "https://localhost:8080/"
        },
        "id": "MBleDjA36KFG",
        "outputId": "e06b3f73-0b24-462d-cca7-0599a6f142fd"
      },
      "execution_count": null,
      "outputs": [
        {
          "output_type": "stream",
          "name": "stdout",
          "text": [
            "Soy un Animal del tipo Perro\n"
          ]
        }
      ]
    },
    {
      "cell_type": "markdown",
      "source": [
        "Con tan solo un par de líneas de código, hemos creado una clase nueva que tiene todo el contenido que la clase padre tiene, pero aquí viene lo que es de verdad interesante. Vamos a crear varios animales concretos y sobreescrbir algunos de los métodos que habían sido definidos en la clase Animal, como el hablar o el moverse, ya que cada animal se comporta de una manera distinta.\n",
        "\n",
        "Podemos incluso crear nuevos métodos que se añadirán a los ya heredados, como en el caso de la Abeja con picar()."
      ],
      "metadata": {
        "id": "B0IRrOXn6Luo"
      }
    },
    {
      "cell_type": "code",
      "source": [
        "class Perro(Animal):\n",
        "    def hablar(self):\n",
        "        print(\"Guau!\")\n",
        "    def moverse(self):\n",
        "        print(\"Caminando con 4 patas\")\n",
        "\n",
        "class Vaca(Animal):\n",
        "    def hablar(self):\n",
        "        print(\"Muuu!\")\n",
        "    def moverse(self):\n",
        "        print(\"Caminando con 4 patas\")\n",
        "\n",
        "class Abeja(Animal):\n",
        "    def hablar(self):\n",
        "        print(\"Bzzzz!\")\n",
        "    def moverse(self):\n",
        "        print(\"Volando\")\n",
        "\n",
        "    # Nuevo método\n",
        "    def picar(self):\n",
        "        print(\"Picar!\")"
      ],
      "metadata": {
        "id": "SkjBLkBn6ShY"
      },
      "execution_count": null,
      "outputs": []
    },
    {
      "cell_type": "markdown",
      "source": [
        "Por lo tanto ya podemos crear nuestros objetos de esos animales y hacer uso de sus métodos que podrían clasificarse en tres:\n",
        "\n",
        "Heredados directamente de la clase padre: describeme()\n",
        "\n",
        "Heredados de la clase padre pero modificados: hablar() y moverse()\n",
        "\n",
        "Creados en la clase hija por lo tanto no existentes en la clase padre: picar()"
      ],
      "metadata": {
        "id": "gBNThmIe6i8G"
      }
    },
    {
      "cell_type": "code",
      "source": [
        "mi_perro = Perro('mamífero', 10)\n",
        "mi_vaca = Vaca('mamífero', 23)\n",
        "mi_abeja = Abeja('insecto', 1)\n",
        "\n",
        "mi_perro.hablar()\n",
        "mi_vaca.hablar()\n",
        "# Guau!\n",
        "# Muuu!\n",
        "\n",
        "mi_vaca.describeme()\n",
        "mi_abeja.describeme()\n",
        "# Soy un Animal del tipo Vaca\n",
        "# Soy un Animal del tipo Abeja\n",
        "\n",
        "mi_abeja.picar()\n",
        "# Picar!"
      ],
      "metadata": {
        "colab": {
          "base_uri": "https://localhost:8080/"
        },
        "id": "yN5H-4SR6pPm",
        "outputId": "089ebac0-66b0-4dae-d7cb-cd885ff4be51"
      },
      "execution_count": null,
      "outputs": [
        {
          "output_type": "stream",
          "name": "stdout",
          "text": [
            "Guau!\n",
            "Muuu!\n",
            "Soy un Animal del tipo Vaca\n",
            "Soy un Animal del tipo Abeja\n",
            "Picar!\n"
          ]
        }
      ]
    },
    {
      "cell_type": "markdown",
      "source": [
        "**Uso de super()**\n",
        "En pocas palabras, la función super() nos permite acceder a los métodos de la clase padre desde una de sus hijas.\n",
        "\n",
        "Volvamos al ejemplo de Animal y Perro."
      ],
      "metadata": {
        "id": "zAY4fAOY6we1"
      }
    },
    {
      "cell_type": "code",
      "source": [
        "class Animal:\n",
        "    def __init__(self, especie, edad):\n",
        "        self.especie = especie\n",
        "        self.edad = edad\n",
        "    def hablar(self):\n",
        "        pass\n",
        "\n",
        "    def moverse(self):\n",
        "        pass\n",
        "\n",
        "    def describeme(self):\n",
        "        print(\"Soy un Animal del tipo\", type(self).__name__)"
      ],
      "metadata": {
        "id": "wmsN41X26_ku"
      },
      "execution_count": null,
      "outputs": []
    },
    {
      "cell_type": "markdown",
      "source": [
        "Tal vez queramos que nuestro Perro tenga un parámetro extra en el constructor, como podría ser el dueño. Para realizar esto tenemos dos alternativas:\n",
        "\n",
        "Podemos crear un nuevo __init__ y guardar todas las variables una a una.\n",
        "\n",
        "O podemos usar super() para llamar al __init__ de la clase padre que ya aceptaba la especie y edad, y sólo asignar la variable nueva manualmente."
      ],
      "metadata": {
        "id": "DF_wj5Gq7LsM"
      }
    },
    {
      "cell_type": "code",
      "source": [
        "class Perro(Animal):\n",
        "    def __init__(self, especie, edad, dueño):\n",
        "        # Alternativa 1\n",
        "        # self.especie = especie\n",
        "        # self.edad = edad\n",
        "        # self.dueño = dueño\n",
        "\n",
        "        # Alternativa 2\n",
        "        super().__init__(especie, edad)\n",
        "        self.dueño = dueño"
      ],
      "metadata": {
        "id": "Gbnc2CHD7UNw"
      },
      "execution_count": null,
      "outputs": []
    },
    {
      "cell_type": "code",
      "source": [
        "mi_perro = Perro('mamífero', 7, 'Luis')\n",
        "mi_perro.especie\n",
        "mi_perro.edad\n",
        "mi_perro.dueño"
      ],
      "metadata": {
        "colab": {
          "base_uri": "https://localhost:8080/",
          "height": 35
        },
        "id": "jDRhxYPB7YRg",
        "outputId": "c09a8a00-03ac-4d25-e55a-8b0122a7fc03"
      },
      "execution_count": null,
      "outputs": [
        {
          "output_type": "execute_result",
          "data": {
            "text/plain": [
              "'Luis'"
            ],
            "application/vnd.google.colaboratory.intrinsic+json": {
              "type": "string"
            }
          },
          "metadata": {},
          "execution_count": 33
        }
      ]
    },
    {
      "cell_type": "markdown",
      "source": [
        "### **Herencia múltiple**\n",
        "En Python es posible realizar herencia múltiple. Hemos visto como se podía crear una clase padre que heredaba de una clase hija, pudiendo hacer uso de sus métodos y atributos. La herencia múltiple es similar, pero una clase hereda de varias clases padre en vez de una sola.\n",
        "\n",
        "Veamos un ejemplo. Por un lado tenemos dos clases Clase1 y Clase2, y por otro tenemos la Clase3 que hereda de las dos anteriores. Por lo tanto, heredará todos los métodos y atributos de ambas."
      ],
      "metadata": {
        "id": "P2zxRqAs7jrA"
      }
    },
    {
      "cell_type": "code",
      "source": [
        "class Clase1:\n",
        "    pass\n",
        "class Clase2:\n",
        "    pass\n",
        "class Clase3(Clase1, Clase2):\n",
        "    pass"
      ],
      "metadata": {
        "id": "903v2mGa7o2U"
      },
      "execution_count": null,
      "outputs": []
    },
    {
      "cell_type": "markdown",
      "source": [
        "Es posible también que una clase herede de otra clase y a su vez otra clase herede de la anterior."
      ],
      "metadata": {
        "id": "Q-IknQvD7w9V"
      }
    },
    {
      "cell_type": "code",
      "source": [
        "class Clase1:\n",
        "    pass\n",
        "class Clase2(Clase1):\n",
        "    pass\n",
        "class Clase3(Clase2):\n",
        "    pass"
      ],
      "metadata": {
        "id": "rbRhSltz71jI"
      },
      "execution_count": null,
      "outputs": []
    },
    {
      "cell_type": "markdown",
      "source": [
        "Llegados a este punto nos podemos plantear lo siguiente. Como sabemos las clases hijas heredan los métodos de las clases padre, pero también pueden reimplementarlos de manera distinta. Entonces, si llamo a un método que todas las clases tienen en común ¿a cuál se llama?. Pues bien, existe una forma de saberlo.\n",
        "\n",
        "La forma de saber a que método se llama es consultar el MRO o Method Order Resolution. Esta función nos devuelve una tupla con el orden de búsqueda de los métodos. Como era de esperar se empieza en la propia clase y se va subiendo hasta la clase padre, de izquierda a derecha."
      ],
      "metadata": {
        "id": "KMWs5nlD75P6"
      }
    },
    {
      "cell_type": "code",
      "source": [
        "class Clase1:\n",
        "    pass\n",
        "class Clase2:\n",
        "    pass\n",
        "class Clase3(Clase1, Clase2):\n",
        "    pass\n",
        "\n",
        "print(Clase3.__mro__)\n",
        "# (<class '__main__.Clase3'>, <class '__main__.Clase1'>, <class '__main__.Clase2'>, <class 'object'>)"
      ],
      "metadata": {
        "colab": {
          "base_uri": "https://localhost:8080/"
        },
        "id": "tk3nBV8a8PHa",
        "outputId": "fb7c5730-c7d2-42e3-9995-91ed796add45"
      },
      "execution_count": null,
      "outputs": [
        {
          "output_type": "stream",
          "name": "stdout",
          "text": [
            "(<class '__main__.Clase3'>, <class '__main__.Clase1'>, <class '__main__.Clase2'>, <class 'object'>)\n"
          ]
        }
      ]
    },
    {
      "cell_type": "markdown",
      "source": [
        "Una curiosidad es que al final del todo vemos la clase object. Aunque pueda parecer raro, es correcto ya que en realidad todas las clases en Python heredan de una clase genérica object, aunque no lo especifiquemos explícitamente.\n",
        "\n",
        "Y como último ejemplo,…el cielo es el límite. Podemos tener una clase heredando de otras tres. Fíjate en que el MRO depende del orden en el que las clases son pasadas: 1, 3, 2."
      ],
      "metadata": {
        "id": "ickKk-eG8WJg"
      }
    },
    {
      "cell_type": "code",
      "source": [
        "class Clase1:\n",
        "    pass\n",
        "class Clase2:\n",
        "    pass\n",
        "class Clase3:\n",
        "    pass\n",
        "class Clase4(Clase1, Clase3, Clase2):\n",
        "    pass\n",
        "print(Clase4.__mro__)\n",
        "# (<class '__main__.Clase4'>, <class '__main__.Clase1'>, <class '__main__.Clase3'>, <class '__main__.Clase2'>, <class 'object'>)"
      ],
      "metadata": {
        "colab": {
          "base_uri": "https://localhost:8080/"
        },
        "id": "gZpPDVPv8cwQ",
        "outputId": "6d880f60-7d92-4ed9-eb2b-7319619b95b3"
      },
      "execution_count": null,
      "outputs": [
        {
          "output_type": "stream",
          "name": "stdout",
          "text": [
            "(<class '__main__.Clase4'>, <class '__main__.Clase1'>, <class '__main__.Clase3'>, <class '__main__.Clase2'>, <class 'object'>)\n"
          ]
        }
      ]
    },
    {
      "cell_type": "markdown",
      "source": [
        "## **Polimorfismo**\n",
        "El polimorfismo se refiere a la capacidad de utilizar una interfaz única para objetos de diferentes clases. Python permite que diferentes clases tengan métodos con el mismo nombre, pero con implementaciones específicas para cada clase. Esto significa que un método puede comportarse de manera diferente dependiendo del objeto que lo invoque."
      ],
      "metadata": {
        "id": "8DkfUq6CFY0T"
      }
    },
    {
      "cell_type": "code",
      "source": [
        "class Vehiculo:\n",
        "    def __init__(self, marca, modelo):\n",
        "        self.marca = marca\n",
        "        self.modelo = modelo\n",
        "\n",
        "    def mostrar_informacion(self):\n",
        "        print(f'Marca: {self.marca}, Modelo: {self.modelo}')\n",
        "\n",
        "class Coche(Vehiculo):\n",
        "    def __init__(self, marca, modelo, tipo):\n",
        "        super().__init__(marca, modelo)\n",
        "        self.tipo = tipo\n",
        "\n",
        "    def mostrar_informacion(self):\n",
        "        super().mostrar_informacion()\n",
        "        print(f'Tipo: {self.tipo}')"
      ],
      "metadata": {
        "id": "IR7U2KrLFcNr"
      },
      "execution_count": null,
      "outputs": []
    },
    {
      "cell_type": "code",
      "source": [
        "def imprimir_informacion_vehiculo(vehiculo):\n",
        "    vehiculo.mostrar_informacion()\n",
        "\n",
        "mi_coche = Coche('Toyota', 'Corolla', 'Sedán')\n",
        "mi_vehiculo = Vehiculo('Honda', 'Civic')\n",
        "\n",
        "imprimir_informacion_vehiculo(mi_coche)\n",
        "imprimir_informacion_vehiculo(mi_vehiculo)"
      ],
      "metadata": {
        "colab": {
          "base_uri": "https://localhost:8080/"
        },
        "id": "KROjPclPFt1p",
        "outputId": "49cb470d-47b2-4c76-98f0-b8926ae9721f"
      },
      "execution_count": null,
      "outputs": [
        {
          "output_type": "stream",
          "name": "stdout",
          "text": [
            "Marca: Toyota, Modelo: Corolla\n",
            "Tipo: Sedán\n",
            "Marca: Honda, Modelo: Civic\n"
          ]
        }
      ]
    },
    {
      "cell_type": "markdown",
      "source": [
        "En el ejemplo anterior, la función imprimir_informacion_vehiculo puede aceptar cualquier objeto que tenga un método mostrar_informacion, demostrando cómo el polimorfismo permite tratar objetos de diferentes clases de manera uniforme.\n",
        "\n",
        "La combinación de herencia y polimorfismo en Python facilita la creación de estructuras de código flexibles y extensibles, donde las nuevas funcionalidades pueden ser añadidas o modificadas con facilidad, manteniendo al mismo tiempo la claridad y la cohesión del código."
      ],
      "metadata": {
        "id": "_KjNY2lUF8fX"
      }
    },
    {
      "cell_type": "markdown",
      "source": [
        "## **Encapsulación y abstracción**\n",
        "La encapsulación y la abstracción son dos principios fundamentales en la Programación Orientada a Objetos (POO) que trabajan conjuntamente para mejorar la seguridad y la estructura del código en Python, lo que permite a los desarrolladores diseñar sus programas de forma que oculten detalles internos y resalten las operaciones importantes."
      ],
      "metadata": {
        "id": "rgF3lb7fHPUx"
      }
    },
    {
      "cell_type": "markdown",
      "source": [
        "### **Encapsulación**\n",
        "Cuando hablamos de encapsulación nos referimos generalmente a definir grados o niveles de acceso y modificación para nuestros métodos y atributos. En Python específicamente no existe como tal una 'protección' real hacía los atributos de una clase, ya que estos se pueden acceder de forma pública simplemente a través de la instancia. Lo que se hace para evitar que estos atributos sean cambiados es usar convenciones ya definidas por Python que nos permiten HACER SABER que esos atributos pueden ser accedidos solamente por la clase en la que se encuentran o por las clases que heredan de la misma:\n",
        "\n",
        "self.__body < de esta forma, con dos guiones bajos (__), especificamos que únicamente vamos a poder acceder a este atributo estando dentro de la clase en la que se declaró,lo que se conoce como ACCESO PRIVADO\n",
        "\n",
        "self._body < de esta forma, con un guion bajo (_) , especificamos que la propiedad puede ser accedida tanto como la clase en donde fue declarada, como en las que hereden de esta, lo que se conoce como ACCESO PROTEGIDO\n",
        "\n",
        "**¿Por qué en Python no existe como tal una forma real de proteger a estos atributos?**\n",
        "\n",
        "Porque en realidad todos estos atributos son de acceso público, ya que podemos acceder a ellos y modificarlos a través de la instancia simplemente llamando a la misma clase:\n",
        "\n",
        "*Para el caso donde el acceso sea \"PRIVADO\" post.Post._title = 'Cambiando el valor del título'\n",
        "\n",
        "*Para el caso donde el acceso sea \"PROTEGIDO\" post._Post._title = 'Cambiando el valor de título'"
      ],
      "metadata": {
        "id": "sWSAtceNGD5a"
      }
    },
    {
      "cell_type": "code",
      "source": [
        "class Post:\n",
        "        def __init__(self, title, body, hashtags, author):\n",
        "          self._title = title\n",
        "          self._body = body\n",
        "          self._hashtags = hashtags\n",
        "          self._author = author\n",
        "\n",
        "        def get_name(self):\n",
        "            return self._title\n",
        "        def get_body(self):\n",
        "            return self._body\n",
        "        def get_hashtags(self):\n",
        "            return self._hashtags\n",
        "        def get_author(self):\n",
        "            return self._author\n",
        "\n",
        "post = Post('Titulo del post', 'contenido del post', 'programacion', 'Nahuel')"
      ],
      "metadata": {
        "id": "HT0_bdOPS1kT"
      },
      "execution_count": null,
      "outputs": []
    },
    {
      "cell_type": "markdown",
      "source": [
        "En el ejemplo, __saldo es un atributo privado, accesible y modificable solo dentro de la clase CuentaBancaria mediante métodos específicos, como depositar y mostrar_saldo."
      ],
      "metadata": {
        "id": "3TY5QIcNGR0T"
      }
    },
    {
      "cell_type": "code",
      "source": [
        "class CuentaBancaria:\n",
        "    def __init__(self, titular, saldo=0):\n",
        "        self.titular = titular\n",
        "        self.__saldo = saldo\n",
        "\n",
        "    def depositar(self, cantidad):\n",
        "        if cantidad > 0:\n",
        "            self.__saldo += cantidad\n",
        "            print(f\"Depósito exitoso: {cantidad}\")\n",
        "        else:\n",
        "            print(\"El depósito debe ser mayor que cero.\")\n",
        "\n",
        "    def mostrar_saldo(self):\n",
        "        print(f\"Saldo actual: {self.__saldo}\")"
      ],
      "metadata": {
        "id": "3uAl1ArTGM6-"
      },
      "execution_count": null,
      "outputs": []
    },
    {
      "cell_type": "markdown",
      "source": [
        "### **Abstracción**\n",
        "La abstracción, por otro lado, implica enfocarse en las operaciones relevantes de un objeto, ignorando los detalles menos importantes. En la POO, se logra definiendo clases abstractas y métodos que actúan como plantillas para otras clases.\n",
        "\n",
        "En palabras más simples aún, sería enfocarnos en eliminar o ignorar detalles de algo para obtener los puntos más relevantes para su funcionamiento.\n"
      ],
      "metadata": {
        "id": "TuFUi1yuGnYr"
      }
    },
    {
      "cell_type": "markdown",
      "source": [
        "**¿Pero como nos sirve todo lo de arriba?**\n",
        "\n",
        "Bien, supongamos nuevamente que tenemos un celular moderno, este va a poder:\n",
        "\n",
        "- Llamar\n",
        "- Enviar SMS\n",
        "- Instalar aplicaciones\n",
        "- Sacar fotos\n",
        "- Grabar video\n",
        "\n",
        "Y para realizar todas estas cosas el celular necesita:\n",
        "- Batería\n",
        "- Placa wifi\n",
        "- Camára de foto y video\n",
        "- Sistema operativo funcional(Android, iOS)\n",
        "\n",
        "De esta forma vemos como se puede realizar una abstracción de un celular, así que ahora podemos crear nuestra clase:"
      ],
      "metadata": {
        "id": "w8mMF1uIWNsb"
      }
    },
    {
      "cell_type": "code",
      "source": [
        "class Celular():\n",
        "\n",
        "    def __init__(self, name, wifi_card, battery, camera):\n",
        "        self._name = name\n",
        "        self._battery = battery\n",
        "        self._wifi_card = wifi_card\n",
        "        self._camera = camera\n",
        "\n",
        "    def call(self, number:int): print('Calling'+str(number)+'...')\n",
        "\n",
        "    def send_sms(self, number:int, msg:str): print('Sending '+msg+' to ' +str(number))\n",
        "\n",
        "    def install_app(self, app_name:str): print('Installing '+app_name+' app...')\n",
        "\n",
        "    def take_a_photo(): print('Taking a photo...')\n",
        "\n",
        "    def record_video(): print('Recording video...')"
      ],
      "metadata": {
        "id": "Mq1wJto7Wm6L"
      },
      "execution_count": null,
      "outputs": []
    },
    {
      "cell_type": "markdown",
      "source": [
        "Python implementa la abstracción mediante módulos como abc (Abstract Base Classes)."
      ],
      "metadata": {
        "id": "2IbrccmbXi2Z"
      }
    },
    {
      "cell_type": "code",
      "source": [
        "from abc import ABC, abstractmethod\n",
        "\n",
        "class FiguraGeometrica(ABC):\n",
        "    @abstractmethod\n",
        "    def area(self):\n",
        "        pass\n",
        "\n",
        "class Circulo(FiguraGeometrica):\n",
        "    def __init__(self, radio):\n",
        "        self.radio = radio\n",
        "\n",
        "    def area(self):\n",
        "        return 3.1416 * self.radio**2"
      ],
      "metadata": {
        "id": "8kXKS6ZPG6ED"
      },
      "execution_count": null,
      "outputs": []
    },
    {
      "cell_type": "markdown",
      "source": [
        "En este caso, FiguraGeometrica define una estructura abstracta que otras clases, como Circulo, deben implementar. Esto asegura que todas las subclases de FiguraGeometrica tengan un método area, aunque su implementación varíe.\n",
        "\n",
        "**Técnicas para implementarlos**\n",
        "\n",
        "Para implementar la encapsulación y la abstracción se pueden seguir estas técnicas:\n",
        "\n",
        "Utilizar métodos de acceso para leer o modificar atributos privados.\n",
        "Emplear clases y métodos abstractos para definir plantillas para otras clases.\n",
        "Ocultar detalles de implementación que no sean necesarios para el uso externo de la clase."
      ],
      "metadata": {
        "id": "quA_WMdYHYtS"
      }
    },
    {
      "cell_type": "markdown",
      "source": [
        "# **Preguntas frecuentes sobre la POO en Python**\n",
        "**¿Qué es la programación orientada a objetos (POO)?**\n",
        "\n",
        "La programación orientada a objetos es un paradigma de programación que se basa en el concepto de \"objects\", que pueden contener datos y código que manipula esos datos. En POO, los objetos se crean a partir de plantillas llamadas \"classes\", que definen las propiedades y el comportamiento de los objetos que crean. La programación orientada a objetos te permite crear código reutilizable y modelar los conceptos del mundo real con mayor precisión, lo que la convierte en una opción popular para muchos proyectos de software.\n",
        "\n",
        "**¿Qué son las clases y los objetos en Python?**\n",
        "En Python, una clase es una plantilla para crear objetos. Define las propiedades y el comportamiento de los objetos que se crean a partir de ella. Un objeto es una instancia de una clase, creada llamando a la clase como si fuera una función. El objeto contiene los datos y el comportamiento definidos por la clase, así como una identidad única.\n",
        "\n",
        "**¿Cómo defino una clase en Python?**\n",
        "Para definir una clase en Python, utiliza la palabra clave class, seguida del nombre de la clase y dos puntos. La definición de la clase está sangrada, y el bloque sangrado contiene las propiedades y métodos (funciones) que pertenecen a la clase.\n",
        "\n",
        "**¿Cómo se crea un objeto a partir de una clase en Python?**\n",
        "Para crear un objeto a partir de una clase en Python, debes llamar a la clase como si fuera una función, pasando los argumentos necesarios al constructor de la clase (el método __init__)."
      ],
      "metadata": {
        "id": "IRce38-oD3vW"
      }
    },
    {
      "cell_type": "markdown",
      "source": [
        "# **Lo que deberías recordar de las estructuras de datos y POO en Python**\n",
        "\n",
        "Variedad y flexibilidad: Python ofrece diversas estructuras de datos, como listas para colecciones ordenadas, diccionarios para pares clave-valor, tuplas para datos inmutables y conjuntos para elementos únicos.\n",
        "\n",
        "Eficiencia en la manipulación de datos: Elegir la estructura de datos correcta es fundamental para el rendimiento. Por ejemplo, los diccionarios son ideales para búsquedas rápidas por clave, mientras que las listas son excelentes para operaciones ordenadas.\n",
        "\n",
        "Orientación a objetos: La Programación Orientada a Objetos se centra en el uso de clases y objetos para modelar elementos del mundo real. Las clases definen atributos y métodos, mientras que los objetos son instancias de estas clases.\n",
        "\n",
        "Encapsulación y abstracción: La encapsulación protege los datos dentro de un objeto, y la abstracción reduce la complejidad al enfocarse en las operaciones esenciales, mejorando la claridad y la seguridad del código.\n",
        "\n",
        "Herencia: La herencia permite que una clase herede características de otra, facilitando la reutilización de código y la creación de jerarquías de clases.\n",
        "\n",
        "Polimorfismo: El polimorfismo permite que un mismo método se comporte de manera diferente en clases derivadas, proporcionando flexibilidad para manejar diversos tipos de objetos a través de una interfaz común.\n",
        "\n",
        "Robustez del programa: Manejar adecuadamente las excepciones es esencial para construir aplicaciones robustas. Python permite capturar y responder a errores de manera controlada con bloques try y except, evitando fallos del programa y mejorando la experiencia del usuario ante situaciones inesperadas.\n"
      ],
      "metadata": {
        "id": "d4lJqISMXm4Y"
      }
    }
  ]
}